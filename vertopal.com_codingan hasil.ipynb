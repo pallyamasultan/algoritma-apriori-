{
 "cells": [
  {
   "cell_type": "markdown",
   "metadata": {},
   "source": [
    ".image-shape { width: 200px; height: 200px; background-color: #f0f0f0;\n",
    "position: relative; border-radius: 50%; overflow: hidden; }\n",
    "\n",
    ".image-shape:before { content: ’’; position: absolute; top: 50%; left:\n",
    "50%; transform: translate(-50%, -50%); width: 120px; height: 120px;\n",
    "background-color: #ccc; border-radius: 50%; }\n",
    "\n",
    ".image-shape:after { content: ’’; position: absolute; top: 60%; left:\n",
    "50%; transform: translateX(-50%); width: 80px; height: 80px;\n",
    "background-color: #f0f0f0; border-radius: 50%; }"
   ],
   "id": "42a14256-91c8-446e-92a7-ab6bf11055d3"
  }
 ],
 "nbformat": 4,
 "nbformat_minor": 5,
 "metadata": {}
}
